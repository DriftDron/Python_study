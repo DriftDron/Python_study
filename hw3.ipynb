{
 "cells": [
  {
   "cell_type": "markdown",
   "metadata": {},
   "source": [
    "## Задача 1: функция __zip()__ через __map()__"
   ]
  },
  {
   "cell_type": "code",
   "execution_count": 1,
   "metadata": {},
   "outputs": [
    {
     "name": "stdout",
     "output_type": "stream",
     "text": [
      "[(1, 3, 5), (2, 4, 6)]\n",
      "[(1, 3, 5), (2, 4, 6)]\n"
     ]
    }
   ],
   "source": [
    "def myzip(*args): \n",
    "    return map(lambda *args: tuple(args), *args)\n",
    "\n",
    "print(list(myzip((1,2), (3,4), (5,6))))\n",
    "print(list(zip((1,2), (3,4), (5,6))))"
   ]
  },
  {
   "cell_type": "markdown",
   "metadata": {},
   "source": [
    "## Задача 2: поиск минимального положительного элемента в списке\n",
    "\n",
    "Написать функцию, возвращающую минимальный положительный элемент в списке."
   ]
  },
  {
   "cell_type": "code",
   "execution_count": 2,
   "metadata": {},
   "outputs": [
    {
     "data": {
      "text/plain": [
       "'No such element'"
      ]
     },
     "execution_count": 2,
     "metadata": {},
     "output_type": "execute_result"
    }
   ],
   "source": [
    "'''\n",
    "def mymin(lst):\n",
    "    pos_lst = [x for x in lst if x > 0]\n",
    "    if len(pos_lst) == 0:\n",
    "        return 'No such element'\n",
    "    else:\n",
    "        res = lst[0]\n",
    "        for x in pos_lst:\n",
    "            if x < res:\n",
    "                res = x\n",
    "        return res\n",
    "'''\n",
    "def mymin(lst):\n",
    "    if all(x <= 0 for x in lst):\n",
    "        return 'No such element'\n",
    "    else:\n",
    "        return min(x for x in lst if x > 0)\n",
    "mymin([-1,-2,-3])"
   ]
  },
  {
   "cell_type": "markdown",
   "metadata": {},
   "source": [
    "## Задача 3: поиск НОД всех чисел в iterable\n",
    "\n",
    "На вход подаются натуральные числа (через пробел), необходимо вывести НОД всех введенных чисел."
   ]
  },
  {
   "cell_type": "code",
   "execution_count": 3,
   "metadata": {},
   "outputs": [
    {
     "name": "stdout",
     "output_type": "stream",
     "text": [
      "6 12 -3 48\n",
      "3\n"
     ]
    }
   ],
   "source": [
    "def gcd(a, b):\n",
    "    if b == 0:\n",
    "        return a\n",
    "    elif a == 0:\n",
    "        return b\n",
    "    else:\n",
    "        return abs(gcd(b, a % b))\n",
    "\n",
    "lst = list(map(int, (input().split())))\n",
    "first = lst[0]\n",
    "for num in lst[1::]:\n",
    "    first = gcd(first, num)\n",
    "print(first)"
   ]
  },
  {
   "cell_type": "markdown",
   "metadata": {},
   "source": [
    "## Как сортировать?\n",
    "\n",
    "Есть 2 способа:\n",
    "1. Метод sort, применяемый к списку (изменяется содержимое). Только ко списку.\n",
    "```python\n",
    "myList.sort()\n",
    "# в обратном порядке\n",
    "myList.sort(reverse=True)\n",
    "```\n",
    "2. Метод sorted (возвращает отсортированный список, но не изменяет значение своего параметра). В качестве аргумента - не только список, а кортежи, строки, iterable\n",
    "```python\n",
    "sortedList = sorted(myList)\n",
    "# в обратном порядке\n",
    "sortedList = sorted(myList, reverse=True)\n",
    "```\n",
    "\n",
    "Сортировку можно применять к спискам, все элементы которых сравнимы между собой.\n",
    "\n",
    "### Именованный параметр key\n",
    "\n",
    "Значением этого параметра должна быть функция, которая применяется к каждому элементу списка и затем сравнение элементов происходит по значению этой функции (оно называется ключом).\n",
    "```python\n",
    "# сортировка и вывод списка строк по длине\n",
    "'\\n'.join(sorted(strings, key=len))\n",
    "```"
   ]
  },
  {
   "cell_type": "markdown",
   "metadata": {},
   "source": [
    "## Задача 4: о сортировке точек на плоскости, заданных парой целых координат $x$ и $y$ по неубыванию расстояния от начала координат.\n",
    "\n",
    "1. Вводится число $n$;\n",
    "2. Далее вводятся $n$ точек на плоскости (числ через пробел);\n",
    "3. Вывести строки в порядке неубывания расстояния до центра координат."
   ]
  },
  {
   "cell_type": "code",
   "execution_count": 4,
   "metadata": {},
   "outputs": [
    {
     "name": "stdout",
     "output_type": "stream",
     "text": [
      "Введите количество точек: 4\n",
      "1 2 -1 -1 4 4 0 0\n",
      "[(0, 0), (-1, -1), (1, 2), (4, 4)]\n"
     ]
    }
   ],
   "source": [
    "def max_len(pair):\n",
    "    return (pair[0] ** 2 + pair[1] ** 2) ** (1/2)\n",
    "\n",
    "\n",
    "while True:\n",
    "    n = int(input('Введите количество точек: '))\n",
    "    coords = list(map(int, input().split()))\n",
    "    if len(coords) == 2 * n:\n",
    "        break\n",
    "    else:\n",
    "        print('Введено неверное количество точек. Попробуйте заново')\n",
    "        \n",
    "pairs = list(zip(coords[::2], coords[1::2]))\n",
    "print(sorted(pairs, key=max_len))"
   ]
  },
  {
   "cell_type": "markdown",
   "metadata": {},
   "source": [
    "## Задача 5: Стоимость поездок \n",
    "\n",
    "В городе есть несколько человек, каждый из которых хочет проехать некоторое число километров. Также в городе есть несколько машин такси ($=$ количество человек), каждый из которых берет определенную сумму за перевозку ($\\frac{\\text{руб.}}{\\text{км}}$).\n",
    "Необходимо сопоставить каждому человеку номер такси, чтобы суммарная цена поездок была минимальна.\n",
    "\n",
    "1. В  первой строке через пробелы вводятся положительные числа $-$ км, которые хотят проехать будущие пассажиры;\n",
    "2. Во второй строке через пробелы вводятся положительные числа $-$ стоимости (за 1 км) проезда таксистов соответственно;\n",
    "3. Вывести минимальную суммарную цену поездок и соответствующие каждому пассажиру номера такси (списком).\n",
    "\n",
    "**Пример входных данных:**\n",
    "\n",
    "4 5 6 1 2 3 <br>\n",
    "100 150 200 400 70 95\n",
    "\n",
    "**Пример выходных данных:**\n",
    "\n",
    "2545 <br>\n",
    "0 5 4 3 2 1"
   ]
  },
  {
   "cell_type": "code",
   "execution_count": 6,
   "metadata": {},
   "outputs": [
    {
     "name": "stdout",
     "output_type": "stream",
     "text": [
      "4 5 6 1 2 3\n",
      "100 150 200 400 70 95\n",
      "2545\n",
      "[0, 5, 4, 3, 2, 1]\n"
     ]
    }
   ],
   "source": [
    "dist = list(map(int, input().split()))\n",
    "price = list(map(int, input().split()))\n",
    "taxi_price = {i: price[i] for i in range(len(price))} # Словарь, где ключ - это номер такси, а значение - тариф \n",
    "min_sum = 0\n",
    "taxi_ind = [] # Соответствующие каждому пассажиру номера такси\n",
    "sorted_price = sorted(taxi_price.items(), key=lambda item: item[1])\n",
    "res = list(zip(sorted_price, sorted(dist, reverse=True))) # Список из пар (сортированных цен, номера такси) и сортированных расстояний\n",
    "\n",
    "for r in res:\n",
    "    min_sum += r[0][1] * r[1]\n",
    "print(min_sum)\n",
    "# Добовляем номера такси в нужном порядке\n",
    "for d in dist:\n",
    "    for r in res:\n",
    "        if r[1] == d:\n",
    "            taxi_ind.append(r[0][0])       \n",
    "print(taxi_ind)"
   ]
  }
 ],
 "metadata": {
  "kernelspec": {
   "display_name": "Python 3",
   "language": "python",
   "name": "python3"
  },
  "language_info": {
   "codemirror_mode": {
    "name": "ipython",
    "version": 3
   },
   "file_extension": ".py",
   "mimetype": "text/x-python",
   "name": "python",
   "nbconvert_exporter": "python",
   "pygments_lexer": "ipython3",
   "version": "3.8.8"
  }
 },
 "nbformat": 4,
 "nbformat_minor": 2
}
