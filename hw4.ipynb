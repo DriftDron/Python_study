{
 "cells": [
  {
   "cell_type": "markdown",
   "metadata": {},
   "source": [
    "## Задача 1: Frequency\n",
    "\n",
    "Напишите функцию, подсчитывающую частоту вхождения слов в текстовый файл (передаётся в функцию в качестве аргумента)."
   ]
  },
  {
   "cell_type": "code",
   "execution_count": 16,
   "metadata": {},
   "outputs": [
    {
     "name": "stdout",
     "output_type": "stream",
     "text": [
      "Counter({'the': 245, 'of': 175, 'I': 142, 'and': 112, 'to': 107, 'my': 101, 'a': 92, '--': 70, 'it': 51, 'in': 50, 'was': 50, 'had': 49, 'with': 37, 'which': 33, 'as': 32, 'at': 29, 'that': 29, 'from': 28, 'for': 26, 'this': 26, 'me': 25, 'not': 24, 'by': 24, 'The': 23, 'been': 22, 'upon': 20, 'one': 19, 'no': 18, 'its': 17, 'but': 16, 'be': 14, 'have': 14, 'or': 14, 'into': 14, 'very': 13, 'than': 12, 'more': 12, 'so': 12, 'about': 10, 'even': 10, 'would': 9, 'My': 9, 'is': 9, 'an': 9, 'This': 9, 'It': 9, 'myself': 9, 'am': 8, 'heart': 8, 'could': 8, 'day': 8, 'were': 8, 'most': 7, 'But': 7, 'some': 7, 'made': 7, 'all': 7, 'knew': 7, 'their': 6, 'own': 6, 'and,': 6, 'he': 6, 'through': 6, 'came': 6, '!': 6, 'now': 6, 'beast': 6, 'if': 6, 'these': 5, 'me.': 5, 'will': 5, 'me,': 5, 'make': 5, 'who': 5, 'At': 5, 'For': 5, 'what': 5, 'cat': 5, 'soul': 5, 'half': 5, 'because': 5, 'hung': 5, 'such': 5, 'night': 5, 'animal': 5, 'walls': 5, 'up': 5, 'it,': 4, 'place': 4, 'mere': 4, 'In': 4, 'they': 4, 'little': 4, 'less': 4, 'found': 4, 'great': 4, 'when': 4, 'character': 4, 'thus': 4, 'his': 4, 'wife,': 4, 'reason': 4, 'went': 4, 'house.': 4, 'length,': 4, 'only': 4, 'Pluto,': 4, 'however,': 4, 'One': 4, 'much': 4, 'When': 4, 'any': 4, 'terror': 4, 'on': 4, 'creature': 4, 'once': 4, 'And': 4, 'spirit': 4, 'thing': 4, 'possible': 4, 'whole': 4, 'house,': 4, 'wall': 4, 'Upon': 4, 'did': 4, 'nearly': 4, 'within': 4, 'dread': 4, 'cellar': 4, 'well': 4, 'yet': 3, 'do': 3, 'without': 3, 'them.': 3, 'many': 3, 'may': 3, 'far': 3, 'nothing': 3, 'dog,': 3, 'him': 3, 'has': 3, 'wife': 3, 'she': 3, 'large': 3, 'black': 3, 'just': 3, 'Pluto': 3, 'him,': 3, 'during': 3, 'wife.': 3, 'her': 3, 'like': 3, 'home,': 3, 'once,': 3, 'every': 3, 'again': 3, 'soon': 3, 'eye': 3, 'appeared': 3, 'house': 3, 'first': 3, 'then': 3, 'not,': 3, 'other': 3, 'should': 3, 'our': 3, 'itself': 3, 'felt': 3, 'deed': 3, 'between': 3, 'fire,': 3, 'stood': 3, 'against': 3, 'fact': 3, 'having': 3, 'portion': 3, 'white': 3, 'immediately': 3, 'it.': 3, 'readily': 3, 'look': 3, 'although': 3, 'hand,': 3, 'prepared': 3, 'By': 3, 'former': 3, 'hideous': 3, 'whose': 3, 'usual': 3, 'cellar.': 3, 'are': 3, 'present': 3, 'party': 3, 'say': 3, 'neither': 2, 'expect': 2, 'nor': 2, 'indeed': 2, 'reject': 2, 'purpose': 2, 'before': 2, 'household': 2, 'destroyed': 2, 'Yet': 2, 'To': 2, 'Horror': 2, 'terrible': 2, 'intellect': 2, 'phantasm': 2, 'humanity': 2, 'disposition.': 2, 'With': 2, 'time,': 2, 'never': 2, 'happy': 2, 'grew': 2, 'those': 2, 'sagacious': 2, 'nature': 2, 'There': 2, 'something': 2, 'frequent': 2, 'friendship': 2, 'Man.': 2, 'find': 2, 'disposition': 2, 'partiality': 2, 'pets,': 2, 'lost': 2, 'rabbits,': 2, 'monkey,': 2, 'cat.': 2, 'animal,': 2, 'better': 2, 'now,': 2, 'name': 2, 'favorite': 2, 'pet': 2, 'difficulty': 2, 'manner,': 2, 'confess': 2, 'experienced': 2, 'feelings': 2, 'use': 2, 'offered': 2, 'course,': 2, 'still': 2, 'regard': 2, 'maltreating': 2, 'disease': 2, 'length': 2, 'old,': 2, 'somewhat': 2, 'ill': 2, 'night,': 2, 'haunts': 2, 'avoided': 2, 'inflicted': 2, 'hand': 2, 'fury': 2, 'instantly': 2, 'seemed,': 2, 'take': 2, 'body;': 2, 'cut': 2, 'eyes': 2, 'socket': 2, 'atrocity.': 2, 'morning': 2, 'slept': 2, 'off': 2, 'feeble': 2, 'remained': 2, 'memory': 2, 'appearance,': 2, 'but,': 2, 'might': 2, 'fled': 2, 'old': 2, 'evident': 2, 'dislike': 2, 'loved': 2, 'feeling': 2, 'came,': 2, 'final': 2, 'Of': 2, 'sure': 2, 'times,': 2, 'committing': 2, 'vile': 2, 'we': 2, 'say,': 2, 'violence': 2, 'given': 2, 'sin': 2, 'beyond': 2, 'Most': 2, 'On': 2, 'fire.': 2, 'myself,': 2, 'entire': 2, 'up,': 2, 'above': 2, 'cause': 2, 'wish': 2, 'wall,': 2, 'middle': 2, 'head': 2, 'here,': 2, 'crowd': 2, 'seemed': 2, 'minute': 2, 'similar': 2, 'approached': 2, 'relief': 2, 'impression': 2, 'scarcely': 2, 'cat,': 2, 'garden': 2, 'filled': 2, 'which,': 2, 'rid': 2, 'there': 2, 'loss': 2, 'sat,': 2, 'constituted': 2, 'caused': 2, 'sooner': 2, 'object': 2, 'large,': 2, 'covering': 2, 'breast.': 2, 'then,': 2, 'search.': 2, 'accompany': 2, 'became': 2, 'how': 2, 'slow': 2, 'sense': 2, 'otherwise': 2, 'gradually': 2, 'unutterable': 2, 'breath': 2, 'hatred': 2, 'already': 2, 'followed': 2, 'reader': 2, 'long': 2, 'evil': 2, 'almost': 2, 'ashamed': 2, 'horror': 2, 'hair,': 2, 'sole': 2, 'originally': 2, 'degrees': 2, 'had,': 2, 'rigorous': 2, 'monster': 2, 'image': 2, 'brute': 2, 'out': 2, 'God': 2, 'more!': 2, 'left': 2, 'thoughts': 2, 'while,': 2, 'blow': 2, 'descended': 2, 'fell': 2, 'murder': 2, 'either': 2, 'corpse': 2, 'them': 2, 'resolved': 2, 'floor': 2, 'walled': 2, 'doubt': 2, 'corpse,': 2, 'easily': 2, 'carefully': 2, 'satisfied': 2, 'appearance': 2, 'looked': 2, 'said': 2, 'least,': 2, 'put': 2, 'bosom.': 2, 'third': 2, 'fourth': 2, 'police': 2, 'arms': 2, 'triumph,': 2, '\"I': 2, 'you': 2, 'constructed': 2, 'voice': 2, 'tomb!': 2, 'wall.': 2, 'FOR': 1, 'wild,': 1, 'homely': 1, 'narrative': 1, 'pen,': 1, 'solicit': 1, 'belief.': 1, 'Mad': 1, 'case': 1, 'where': 1, 'senses': 1, 'evidence.': 1, 'Yet,': 1, 'mad': 1, 'surely': 1, 'dream.': 1, 'to-morrow': 1, 'die,': 1, 'to-day': 1, 'unburthen': 1, 'soul.': 1, 'immediate': 1, 'world,': 1, 'plainly,': 1, 'succinctly,': 1, 'comment,': 1, 'series': 1, 'events.': 1, 'consequences,': 1, 'events': 1, 'terrified': 1, 'tortured': 1, 'attempt': 1, 'expound': 1, 'presented': 1, 'seem': 1, 'barroques.': 1, 'Hereafter,': 1, 'perhaps,': 1, 'reduce': 1, 'common-place': 1, 'calm,': 1, 'logical,': 1, 'excitable': 1, 'own,': 1, 'perceive,': 1, 'circumstances': 1, 'detail': 1, 'awe,': 1, 'ordinary': 1, 'succession': 1, 'natural': 1, 'causes': 1, 'effects.': 1, 'From': 1, 'infancy': 1, 'noted': 1, 'docility': 1, 'tenderness': 1, 'conspicuous': 1, 'jest': 1, 'companions.': 1, 'especially': 1, 'fond': 1, 'animals,': 1, 'indulged': 1, 'parents': 1, 'variety': 1, 'pets.': 1, 'spent': 1, 'feeding': 1, 'caressing': 1, 'peculiarity': 1, 'growth,': 1, 'manhood,': 1, 'derived': 1, 'principal': 1, 'sources': 1, 'pleasure.': 1, 'cherished': 1, 'affection': 1, 'faithful': 1, 'need': 1, 'hardly': 1, 'trouble': 1, 'explaining': 1, 'intensity': 1, 'gratification': 1, 'derivable.': 1, 'unselfish': 1, 'self-sacrificing': 1, 'love': 1, 'brute,': 1, 'goes': 1, 'directly': 1, 'occasion': 1, 'test': 1, 'paltry': 1, 'gossamer': 1, 'fidelity': 1, 'married': 1, 'early,': 1, 'uncongenial': 1, 'own.': 1, 'Observing': 1, 'domestic': 1, 'opportunity': 1, 'procuring': 1, 'agreeable': 1, 'kind.': 1, 'We': 1, 'birds,': 1, 'gold-fish,': 1, 'fine': 1, 'small': 1, 'latter': 1, 'remarkably': 1, 'beautiful': 1, 'entirely': 1, 'black,': 1, 'astonishing': 1, 'degree.': 1, 'speaking': 1, 'intelligence,': 1, 'tinctured': 1, 'superstition,': 1, 'allusion': 1, 'ancient': 1, 'popular': 1, 'notion,': 1, 'regarded': 1, 'cats': 1, 'witches': 1, 'disguise.': 1, 'Not': 1, 'ever': 1, 'serious': 1, 'point': 1, 'mention': 1, 'matter': 1, 'happens,': 1, 'remembered.': 1, \"cat's\": 1, 'playmate.': 1, 'alone': 1, 'fed': 1, 'attended': 1, 'wherever': 1, 'prevent': 1, 'following': 1, 'streets.': 1, 'Our': 1, 'lasted,': 1, 'several': 1, 'years,': 1, 'general': 1, 'temperament': 1, 'instrumentality': 1, 'Fiend': 1, 'Intemperance': 1, '(I': 1, 'blush': 1, 'it)': 1, 'radical': 1, 'alteration': 1, 'worse.': 1, 'grew,': 1, 'day,': 1, 'moody,': 1, 'irritable,': 1, 'regardless': 1, 'others.': 1, 'suffered': 1, 'intemperate': 1, 'language': 1, 'personal': 1, 'violence.': 1, 'feel': 1, 'change': 1, 'neglected,': 1, 'ill-used': 1, 'retained': 1, 'sufficient': 1, 'restrain': 1, 'scruple': 1, 'accident,': 1, 'affection,': 1, 'way.': 1, 'Alcohol': 1, 'becoming': 1, 'consequently': 1, 'peevish': 1, 'began': 1, 'experience': 1, 'effects': 1, 'temper.': 1, 'returning': 1, 'intoxicated,': 1, 'town,': 1, 'fancied': 1, 'presence.': 1, 'seized': 1, 'him;': 1, 'when,': 1, 'fright': 1, 'violence,': 1, 'slight': 1, 'wound': 1, 'teeth.': 1, 'demon': 1, 'possessed': 1, 'longer.': 1, 'original': 1, 'flight': 1, 'fiendish': 1, 'malevolence,': 1, 'gin-nurtured,': 1, 'thrilled': 1, 'fibre': 1, 'frame.': 1, 'took': 1, 'waistcoat-pocket': 1, 'pen-knife,': 1, 'opened': 1, 'grasped': 1, 'poor': 1, 'throat,': 1, 'deliberately': 1, 'blush,': 1, 'burn,': 1, 'shudder,': 1, 'while': 1, 'pen': 1, 'damnable': 1, 'returned': 1, 'fumes': 1, \"night's\": 1, 'debauch': 1, 'sentiment': 1, 'horror,': 1, 'remorse,': 1, 'crime': 1, 'guilty;': 1, 'was,': 1, 'best,': 1, 'equivocal': 1, 'feeling,': 1, 'untouched.': 1, 'plunged': 1, 'excess,': 1, 'drowned': 1, 'wine': 1, 'deed.': 1, 'meantime': 1, 'slowly': 1, 'recovered.': 1, 'presented,': 1, 'true,': 1, 'frightful': 1, 'longer': 1, 'suffer': 1, 'pain.': 1, 'He': 1, 'usual,': 1, 'expected,': 1, 'extreme': 1, 'approach.': 1, 'left,': 1, 'grieved': 1, 'part': 1, 'gave': 1, 'irritation.': 1, 'irrevocable': 1, 'overthrow,': 1, 'PERVERSENESS.': 1, 'philosophy': 1, 'takes': 1, 'account.': 1, 'lives,': 1, 'perverseness': 1, 'primitive': 1, 'impulses': 1, 'human': 1, 'indivisible': 1, 'primary': 1, 'faculties,': 1, 'sentiments,': 1, 'give': 1, 'direction': 1, 'Who': 1, 'hundred': 1, 'himself': 1, 'silly': 1, 'action,': 1, 'knows': 1, 'not?': 1, 'Have': 1, 'perpetual': 1, 'inclination,': 1, 'teeth': 1, 'best': 1, 'judgment,': 1, 'violate': 1, 'Law,': 1, 'merely': 1, 'understand': 1, 'such?': 1, 'perverseness,': 1, 'overthrow.': 1, 'unfathomable': 1, 'longing': 1, 'vex': 1, 'offer': 1, 'wrong': 1, \"wrong's\": 1, 'sake': 1, 'urged': 1, 'continue': 1, 'finally': 1, 'consummate': 1, 'injury': 1, 'unoffending': 1, 'brute.': 1, 'morning,': 1, 'cool': 1, 'blood,': 1, 'slipped': 1, 'noose': 1, 'neck': 1, 'limb': 1, 'tree;': 1, 'tears': 1, 'streaming': 1, 'eyes,': 1, 'bitterest': 1, 'remorse': 1, 'heart;': 1, 'offence;': 1, 'doing': 1, 'deadly': 1, 'jeopardize': 1, 'immortal': 1, 'reach': 1, 'infinite': 1, 'mercy': 1, 'Merciful': 1, 'Terrible': 1, 'God.': 1, 'cruel': 1, 'done,': 1, 'aroused': 1, 'sleep': 1, 'cry': 1, 'curtains': 1, 'bed': 1, 'flames.': 1, 'blazing.': 1, 'servant,': 1, 'escape': 1, 'conflagration.': 1, 'destruction': 1, 'complete.': 1, 'worldly': 1, 'wealth': 1, 'swallowed': 1, 'resigned': 1, 'thenceforward': 1, 'despair.': 1, 'weakness': 1, 'seeking': 1, 'establish': 1, 'sequence': 1, 'effect,': 1, 'disaster': 1, 'detailing': 1, 'chain': 1, 'facts': 1, 'leave': 1, 'link': 1, 'imperfect.': 1, 'succeeding': 1, 'visited': 1, 'ruins.': 1, 'walls,': 1, 'exception,': 1, 'fallen': 1, 'in.': 1, 'exception': 1, 'compartment': 1, 'thick,': 1, 'rested': 1, 'bed.': 1, 'plastering': 1, 'measure,': 1, 'resisted': 1, 'action': 1, 'fire': 1, 'attributed': 1, 'recently': 1, 'spread.': 1, 'About': 1, 'dense': 1, 'collected,': 1, 'persons': 1, 'examining': 1, 'particular': 1, 'eager': 1, 'attention.': 1, 'words': 1, '\"strange!\"': 1, '\"singular!\"': 1, 'expressions,': 1, 'excited': 1, 'curiosity.': 1, 'saw,': 1, 'graven': 1, 'bas': 1, 'surface,': 1, 'figure': 1, 'gigantic': 1, 'accuracy': 1, 'truly': 1, 'marvellous.': 1, 'rope': 1, \"animal's\": 1, 'neck.': 1, 'beheld': 1, 'apparition': 1, 'wonder': 1, 'extreme.': 1, 'reflection': 1, 'aid.': 1, 'remembered,': 1, 'adjacent': 1, 'alarm': 1, 'whom': 1, 'must': 1, 'tree': 1, 'thrown,': 1, 'open': 1, 'window,': 1, 'chamber.': 1, 'probably': 1, 'done': 1, 'view': 1, 'arousing': 1, 'sleep.': 1, 'falling': 1, 'compressed': 1, 'victim': 1, 'cruelty': 1, 'substance': 1, 'freshly-spread': 1, 'plaster;': 1, 'lime': 1, 'flames,': 1, 'ammonia': 1, 'carcass,': 1, 'accomplished': 1, 'portraiture': 1, 'saw': 1, 'Although': 1, 'accounted': 1, 'reason,': 1, 'altogether': 1, 'conscience,': 1, 'startling': 1, 'detailed,': 1, 'fail': 1, 'deep': 1, 'fancy.': 1, 'months': 1, 'cat;': 1, 'period,': 1, 'back': 1, 'half-sentiment': 1, 'remorse.': 1, 'regret': 1, 'among': 1, 'habitually': 1, 'frequented,': 1, 'another': 1, 'same': 1, 'species,': 1, 'supply': 1, 'place.': 1, 'stupified,': 1, 'den': 1, 'infamy,': 1, 'attention': 1, 'suddenly': 1, 'drawn': 1, 'object,': 1, 'reposing': 1, 'immense': 1, 'hogsheads': 1, 'Gin,': 1, 'Rum,': 1, 'chief': 1, 'furniture': 1, 'apartment.': 1, 'looking': 1, 'steadily': 1, 'top': 1, 'hogshead': 1, 'minutes,': 1, 'surprise': 1, 'perceived': 1, 'thereupon.': 1, 'touched': 1, 'hand.': 1, 'fully': 1, 'closely': 1, 'resembling': 1, 'respect': 1, 'one.': 1, 'hair': 1, 'indefinite': 1, 'splotch': 1, 'white,': 1, 'region': 1, 'touching': 1, 'arose,': 1, 'purred': 1, 'loudly,': 1, 'rubbed': 1, 'delighted': 1, 'notice.': 1, 'This,': 1, 'purchase': 1, 'landlord;': 1, 'person': 1, 'claim': 1, 'seen': 1, 'before.': 1, 'continued': 1, 'caresses,': 1, 'go': 1, 'evinced': 1, 'permitted': 1, 'so;': 1, 'occasionally': 1, 'stooping': 1, 'patting': 1, 'proceeded.': 1, 'reached': 1, 'domesticated': 1, 'part,': 1, 'arising': 1, 'reverse': 1, 'anticipated;': 1, 'know': 1, 'why': 1, 'fondness': 1, 'rather': 1, 'disgusted': 1, 'annoyed.': 1, 'degrees,': 1, 'disgust': 1, 'annoyance': 1, 'rose': 1, 'bitterness': 1, 'hatred.': 1, 'creature;': 1, 'certain': 1, 'shame,': 1, 'remembrance': 1, 'cruelty,': 1, 'preventing': 1, 'physically': 1, 'abusing': 1, 'weeks,': 1, 'strike,': 1, 'violently': 1, 'it;': 1, 'loathing,': 1, 'flee': 1, 'silently': 1, 'odious': 1, 'presence,': 1, 'pestilence.': 1, 'What': 1, 'added,': 1, 'doubt,': 1, 'beast,': 1, 'discovery,': 1, 'after': 1, 'brought': 1, 'that,': 1, 'also': 1, 'deprived': 1, 'eyes.': 1, 'circumstance,': 1, 'endeared': 1, 'who,': 1, 'said,': 1, 'possessed,': 1, 'high': 1, 'degree,': 1, 'distinguishing': 1, 'trait,': 1, 'source': 1, 'simplest': 1, 'purest': 1, 'pleasures.': 1, 'aversion': 1, 'increase.': 1, 'footsteps': 1, 'pertinacity': 1, 'difficult': 1, 'comprehend.': 1, 'Whenever': 1, 'crouch': 1, 'beneath': 1, 'chair,': 1, 'spring': 1, 'knees,': 1, 'loathsome': 1, 'caresses.': 1, 'If': 1, 'arose': 1, 'walk': 1, 'get': 1, 'feet': 1, 'throw': 1, 'down,': 1, 'or,': 1, 'fastening': 1, 'sharp': 1, 'claws': 1, 'dress,': 1, 'clamber,': 1, 'longed': 1, 'destroy': 1, 'blow,': 1, 'withheld': 1, 'doing,': 1, 'partly': 1, 'crime,': 1, 'chiefly': 1, 'let': 1, 'absolute': 1, 'beast.': 1, 'exactly': 1, 'physical': 1, 'define': 1, 'yes,': 1, \"felon's\": 1, 'cell,': 1, 'inspired': 1, 'heightened': 1, 'merest': 1, 'chimГ¦ras': 1, 'conceive.': 1, 'called': 1, 'attention,': 1, 'mark': 1, 'spoken,': 1, 'visible': 1, 'difference': 1, 'strange': 1, 'destroyed.': 1, 'remember': 1, 'mark,': 1, 'indefinite;': 1, 'imperceptible,': 1, 'time': 1, 'Reason': 1, 'struggled': 1, 'fanciful': 1, 'assumed': 1, 'distinctness': 1, 'outline.': 1, 'representation': 1, 'shudder': 1, 'this,': 1, 'all,': 1, 'loathed,': 1, 'dreaded,': 1, 'dared': 1, 'ghastly': 1, 'GALLOWS': 1, 'oh,': 1, 'mournful': 1, 'engine': 1, 'Crime': 1, 'Agony': 1, 'Death': 1, 'wretched': 1, 'wretchedness': 1, 'Humanity.': 1, 'fellow': 1, 'contemptuously': 1, 'work': 1, 'man,': 1, 'fashioned': 1, 'High': 1, 'insufferable': 1, 'wo!': 1, 'Alas!': 1, 'blessing': 1, 'Rest': 1, 'During': 1, 'moment': 1, 'alone;': 1, 'latter,': 1, 'started,': 1, 'hourly,': 1, 'dreams': 1, 'fear,': 1, 'hot': 1, 'face,': 1, 'vast': 1, 'weight': 1, 'incarnate': 1, 'Night-Mare': 1, 'power': 1, 'shake': 1, 'incumbent': 1, 'eternally': 1, 'Beneath': 1, 'pressure': 1, 'torments': 1, 'these,': 1, 'remnant': 1, 'good': 1, 'succumbed.': 1, 'Evil': 1, 'intimates': 1, 'darkest': 1, 'thoughts.': 1, 'moodiness': 1, 'temper': 1, 'increased': 1, 'things': 1, 'mankind;': 1, 'sudden,': 1, 'frequent,': 1, 'ungovernable': 1, 'outbursts': 1, 'blindly': 1, 'abandoned': 1, 'uncomplaining': 1, 'alas!': 1, 'patient': 1, 'sufferers.': 1, 'accompanied': 1, 'errand,': 1, 'building': 1, 'poverty': 1, 'compelled': 1, 'us': 1, 'inhabit.': 1, 'down': 1, 'steep': 1, 'stairs,': 1, 'throwing': 1, 'headlong,': 1, 'exasperated': 1, 'madness.': 1, 'Uplifting': 1, 'axe,': 1, 'forgetting,': 1, 'wrath,': 1, 'childish': 1, 'hitherto': 1, 'stayed': 1, 'aimed': 1, 'proved': 1, 'fatal': 1, 'wished.': 1, 'arrested': 1, 'Goaded,': 1, 'interference,': 1, 'rage': 1, 'demoniacal,': 1, 'withdrew': 1, 'arm': 1, 'grasp': 1, 'buried': 1, 'axe': 1, 'brain.': 1, 'She': 1, 'dead': 1, 'spot,': 1, 'groan.': 1, 'accomplished,': 1, 'set': 1, 'forthwith,': 1, 'deliberation,': 1, 'task': 1, 'concealing': 1, 'body.': 1, 'remove': 1, 'risk': 1, 'being': 1, 'observed': 1, 'neighbors.': 1, 'Many': 1, 'projects': 1, 'entered': 1, 'mind.': 1, 'period': 1, 'thought': 1, 'cutting': 1, 'fragments,': 1, 'destroying': 1, 'another,': 1, 'dig': 1, 'grave': 1, 'Again,': 1, 'deliberated': 1, 'casting': 1, 'yard': 1, 'packing': 1, 'box,': 1, 'merchandize,': 1, 'arrangements,': 1, 'getting': 1, 'porter': 1, 'Finally': 1, 'hit': 1, 'considered': 1, 'expedient': 1, 'these.': 1, 'determined': 1, 'monks': 1, 'ages': 1, 'recorded': 1, 'victims.': 1, 'adapted.': 1, 'Its': 1, 'loosely': 1, 'constructed,': 1, 'lately': 1, 'plastered': 1, 'throughout': 1, 'rough': 1, 'plaster,': 1, 'dampness': 1, 'atmosphere': 1, 'prevented': 1, 'hardening.': 1, 'Moreover,': 1, 'projection,': 1, 'false': 1, 'chimney,': 1, 'fireplace,': 1, 'resemble': 1, 'rest': 1, 'displace': 1, 'bricks': 1, 'point,': 1, 'insert': 1, 'before,': 1, 'detect': 1, 'suspicious.': 1, 'calculation': 1, 'deceived.': 1, 'means': 1, 'crow-bar': 1, 'dislodged': 1, 'bricks,': 1, 'deposited': 1, 'body': 1, 'inner': 1, 'propped': 1, 'position,': 1, 'trouble,': 1, 're-laid': 1, 'structure': 1, 'stood.': 1, 'Having': 1, 'procured': 1, 'mortar,': 1, 'sand,': 1, 'precaution,': 1, 'plaster': 1, 'distinguished': 1, 'over': 1, 'new': 1, 'brick-work.': 1, 'finished,': 1, 'right.': 1, 'slightest': 1, 'disturbed.': 1, 'rubbish': 1, 'picked': 1, 'minutest': 1, 'care.': 1, 'around': 1, 'triumphantly,': 1, '\"Here': 1, 'labor': 1, 'vain.\"': 1, 'next': 1, 'step': 1, 'wretchedness;': 1, 'firmly': 1, 'death.': 1, 'Had': 1, 'able': 1, 'meet': 1, 'moment,': 1, 'fate;': 1, 'crafty': 1, 'alarmed': 1, 'previous': 1, 'anger,': 1, 'forebore': 1, 'mood.': 1, 'impossible': 1, 'describe,': 1, 'imagine,': 1, 'deep,': 1, 'blissful': 1, 'absence': 1, 'detested': 1, 'occasioned': 1, 'since': 1, 'introduction': 1, 'soundly': 1, 'tranquilly': 1, 'slept;': 1, 'aye,': 1, 'burden': 1, 'soul!': 1, 'second': 1, 'passed,': 1, 'tormentor': 1, 'not.': 1, 'Once': 1, 'breathed': 1, 'freeman.': 1, 'monster,': 1, 'terror,': 1, 'premises': 1, 'forever!': 1, 'behold': 1, 'happiness': 1, 'supreme!': 1, 'guilt': 1, 'dark': 1, 'disturbed': 1, 'little.': 1, 'Some': 1, 'few': 1, 'inquiries': 1, 'made,': 1, 'answered.': 1, 'Even': 1, 'search': 1, 'instituted': 1, 'course': 1, 'discovered.': 1, 'future': 1, 'felicity': 1, 'secured.': 1, 'assassination,': 1, 'unexpectedly,': 1, 'proceeded': 1, 'investigation': 1, 'premises.': 1, 'Secure,': 1, 'inscrutability': 1, 'concealment,': 1, 'embarrassment': 1, 'whatever.': 1, 'officers': 1, 'bade': 1, 'They': 1, 'nook': 1, 'corner': 1, 'unexplored.': 1, 'quivered': 1, 'muscle.': 1, 'beat': 1, 'calmly': 1, 'slumbers': 1, 'innocence.': 1, 'walked': 1, 'end': 1, 'end.': 1, 'folded': 1, 'bosom,': 1, 'roamed': 1, 'fro.': 1, 'thoroughly': 1, 'depart.': 1, 'glee': 1, 'too': 1, 'strong': 1, 'restrained.': 1, 'burned': 1, 'word,': 1, 'way': 1, 'render': 1, 'doubly': 1, 'assurance': 1, 'guiltlessness.': 1, '\"Gentlemen,\"': 1, 'last,': 1, 'ascended': 1, 'steps,': 1, 'delight': 1, 'allayed': 1, 'your': 1, 'suspicions.': 1, 'health,': 1, 'courtesy.': 1, 'bye,': 1, 'gentlemen,': 1, 'house.\"': 1, '(In': 1, 'rabid': 1, 'desire': 1, 'easily,': 1, 'uttered': 1, 'all.)': 1, 'excellently': 1, 'These': 1, 'going,': 1, 'gentlemen?': 1, 'solidly': 1, 'together;\"': 1, 'phrenzy': 1, 'bravado,': 1, 'rapped': 1, 'heavily,': 1, 'cane': 1, 'held': 1, 'brick-work': 1, 'behind': 1, 'shield': 1, 'deliver': 1, 'fangs': 1, 'Arch-Fiend': 1, 'No': 1, 'reverberation': 1, 'blows': 1, 'sunk': 1, 'silence,': 1, 'answered': 1, 'cry,': 1, 'muffled': 1, 'broken,': 1, 'sobbing': 1, 'child,': 1, 'quickly': 1, 'swelling': 1, 'long,': 1, 'loud,': 1, 'continuous': 1, 'scream,': 1, 'utterly': 1, 'anomalous': 1, 'inhuman': 1, 'howl': 1, 'wailing': 1, 'shriek,': 1, 'arisen': 1, 'hell,': 1, 'conjointly': 1, 'throats': 1, 'dammed': 1, 'agony': 1, 'demons': 1, 'exult': 1, 'damnation.': 1, 'folly': 1, 'speak.': 1, 'Swooning,': 1, 'staggered': 1, 'opposite': 1, 'instant': 1, 'stairs': 1, 'motionless,': 1, 'extremity': 1, 'awe.': 1, 'next,': 1, 'dozen': 1, 'stout': 1, 'toiling': 1, 'bodily.': 1, 'greatly': 1, 'decayed': 1, 'clotted': 1, 'gore,': 1, 'erect': 1, 'spectators.': 1, 'head,': 1, 'red': 1, 'extended': 1, 'mouth': 1, 'solitary': 1, 'sat': 1, 'craft': 1, 'seduced': 1, 'murder,': 1, 'informing': 1, 'consigned': 1, 'hangman.': 1})\n"
     ]
    }
   ],
   "source": [
    "from collections import Counter\n",
    "def freq(filename):\n",
    "    count = Counter()\n",
    "    with open(filename, 'r') as f:\n",
    "        for line in f:\n",
    "            for word in line.split():\n",
    "                count[word] += 1\n",
    "    return count\n",
    "print(freq('black_cat.txt'))"
   ]
  },
  {
   "cell_type": "markdown",
   "metadata": {},
   "source": [
    "## Задача 2: Sub six\n",
    "\n",
    "Напишите функцию display_words(), принимающую в качестве аргумента имя файла _filename_\n",
    "и записывающую в новый файл _filename6_ слова, длина которых не более 6 символов."
   ]
  },
  {
   "cell_type": "code",
   "execution_count": 18,
   "metadata": {},
   "outputs": [],
   "source": [
    "def display_words(filename):\n",
    "    with open(filename, 'r') as f1, open('filename6.txt', 'w') as f2:\n",
    "        for line in f1:\n",
    "            for word in line.split():\n",
    "                if len(word) <= 6:\n",
    "                    f2.write(word + ' ')\n",
    "#display_words('black_cat.txt')"
   ]
  },
  {
   "cell_type": "markdown",
   "metadata": {},
   "source": [
    "## Задача 3: Black Cat\n",
    "\n",
    "Сгенерировать файл со словами из файла black_cat.txt, начинающимися с символов в верхнем регистре."
   ]
  },
  {
   "cell_type": "code",
   "execution_count": 20,
   "metadata": {},
   "outputs": [],
   "source": [
    "def capitals(filename):\n",
    "    with open(filename, 'r') as f1, open('res3.txt', 'w') as f2:\n",
    "        for line in f1:\n",
    "            for word in line.split():\n",
    "                if word[0].isupper():\n",
    "                    f2.write(word + ' ')\n",
    "capitals('black_cat.txt')"
   ]
  },
  {
   "cell_type": "markdown",
   "metadata": {},
   "source": [
    "## Задача 4: JackHouse\n",
    "\n",
    "Имеется файл JackHouse2021.txt, в котором хранится лениво записанное стихотворение Джека.\n",
    "\n",
    "Сгенерируйте на его основе полноценное стихотворение \"Дом, который построил Джек\"."
   ]
  },
  {
   "cell_type": "code",
   "execution_count": 48,
   "metadata": {},
   "outputs": [
    {
     "name": "stdout",
     "output_type": "stream",
     "text": [
      "А это пшеница,\n",
      "Которая в тёмном чулане хранится\n",
      "В доме,\n",
      "Который построил Джек.\n",
      "\n",
      "А это весёлая птица-синица,\n",
      "Которая часто ворует пшеницу,\n",
      "Которая в тёмном чулане хранится\n",
      "В доме,\n",
      "Который построил Джек.\n",
      "\n",
      "Вот кот,\n",
      "Который пугает и ловит синицу,\n",
      "Которая часто ворует пшеницу,\n",
      "Которая в тёмном чулане хранится\n",
      "В доме,\n",
      "Который построил Джек.\n",
      "\n",
      "Вот пёс без хвоста,\n",
      "Который за шиворот треплет кота,\n",
      "Который пугает и ловит синицу,\n",
      "Которая часто ворует пшеницу,\n",
      "Которая в тёмном чулане хранится\n",
      "В доме,\n",
      "Который построил Джек.\n",
      "\n",
      "А это корова безрогая,\n",
      "Лягнувшая старого пса без хвоста,\n",
      "Который за шиворот треплет кота,\n",
      "Который пугает и ловит синицу,\n",
      "Которая часто ворует пшеницу,\n",
      "Которая в тёмном чулане хранится\n",
      "В доме,\n",
      "Который построил Джек.\n",
      "\n",
      "А это старушка, седая и строгая,\n",
      "Которая доит корову безрогую,\n",
      "Лягнувшая старого пса без хвоста,\n",
      "Который за шиворот треплет кота,\n",
      "Который пугает и ловит синицу,\n",
      "Которая часто ворует пшеницу,\n",
      "Которая в тёмном чулане хранится\n",
      "В доме,\n",
      "Который построил Джек.\n",
      "\n",
      "А это ленивый и толстый пастух,\n",
      "Который бранится с коровницей строгою,\n",
      "Которая доит корову безрогую,\n",
      "Лягнувшая старого пса без хвоста,\n",
      "Который за шиворот треплет кота,\n",
      "Который пугает и ловит синицу,\n",
      "Которая часто ворует пшеницу,\n",
      "Которая в тёмном чулане хранится\n",
      "В доме,\n",
      "Который построил Джек.\n",
      "\n",
      "Вот два петуха,\n",
      "Которые будят того пастуха,\n",
      "Который бранится с коровницей строгою,\n",
      "Которая доит корову безрогую,\n",
      "Лягнувшая старого пса без хвоста,\n",
      "Который за шиворот треплет кота,\n",
      "Который пугает и ловит синицу,\n",
      "Которая часто ворует пшеницу,\n",
      "Которая в тёмном чулане хранится\n",
      "В доме,\n",
      "Который построил Джек.\n",
      "\n"
     ]
    }
   ],
   "source": [
    "ending ='В доме,\\nКоторый построил Джек.\\n'\n",
    "with open('JackHouse2021.txt', 'r', encoding='utf-8') as f1:\n",
    "    lines = f1.readlines()[:26]\n",
    "\n",
    "i = 0\n",
    "start_line = lines[3::3] # начало каждого двустишия\n",
    "for line in lines[4::3]: # конец каждого двустишия\n",
    "    line += ending\n",
    "    start_line[i] += line\n",
    "    ending = line\n",
    "    print(start_line[i])\n",
    "    i += 1"
   ]
  },
  {
   "cell_type": "markdown",
   "metadata": {},
   "source": [
    "## Задача 5: Console Quiz\n",
    "\n",
    "Напишите \"консольную\" викторону:\n",
    "\n",
    "    1. Считайте из файла questions.txt список вопросов, вариантов ответов и номеров правильных ответов.\n",
    "    2. При запуске должен появляться вопрос, 4 варианта ответа и поле, куда необходимо ввести ответ пользователя.\n",
    "        2.1 Если пользователь вводит 1, 2, 3 или 4, то должна запускаться проверка правильности ответа;\n",
    "        2.2 Если пользователь вводит 0, то игра должна прекратиться;\n",
    "        2.3 Если другое значение, то должно появиться сообщение об ошибке и просьба снова ввести ответ.\n",
    "    3. В случае, если был дан правильный ответ, пользователю выдаётся следующий вопрос. Если был введён неправильный ответ, то игра начинается заново.\n",
    "    4. Если игрок правильно ответил на все вопросы, то игра заканчивается."
   ]
  },
  {
   "cell_type": "code",
   "execution_count": 207,
   "metadata": {},
   "outputs": [
    {
     "name": "stdout",
     "output_type": "stream",
     "text": [
      "Неверный ответ. Начинаем заново.\n",
      "Возле какой горы впервые был найден драгоценный камень танзанит?\n",
      "1)Килиманджаро\n",
      "2)Мак-Кинли\n",
      "3)Аконкагуа\n",
      "4)Элбрус\n",
      "Введите номер ответа: 1\n",
      "Верно!\n",
      "Что не входило в обязанности первых стюардесс?\n",
      "1)заправлять самолет\n",
      "2)носить багаж\n",
      "3)кормить пассажиров\n",
      "4)уничтожать мух\n",
      "Введите номер ответа: 0\n"
     ]
    }
   ],
   "source": [
    "import random\n",
    "from IPython.display import clear_output\n",
    "import pprint\n",
    "from itertools import cycle\n",
    "\n",
    "\n",
    "with open('qustions.txt', 'r', encoding='utf-8') as f:\n",
    "    lines = f.readlines()\n",
    "\n",
    "mydict = dict()\n",
    "lines = [line.replace('\\n','') for line in lines if line != '\\n'] # уберем все пропуски\n",
    "all_questions = [line[3:].lstrip() for line in lines[::6]] # возьмем все вопросы и уберем их нумерацию\n",
    "correct_answers = lines[5::6]\n",
    "question_answer = (list(zip(all_questions,correct_answers)))\n",
    "del lines[::6]\n",
    "del lines[4::5]\n",
    "\n",
    "\n",
    "def make_dict():\n",
    "    answers = list(zip(cycle((1,2,3,4)), lines))\n",
    "    for q in question_answer:\n",
    "        mydict[q] = answers[:4:]\n",
    "        del answers[:4:]\n",
    "#pprint.pprint(mydict)\n",
    "\n",
    "make_dict()\n",
    "\n",
    "def play():\n",
    "    while len(mydict) != 0:\n",
    "        rand_question, variants = random.choice(list(mydict.items()))\n",
    "        print(rand_question[0])\n",
    "        for var in variants:\n",
    "            print(f'{var[0]}){var[1]}')\n",
    "        mydict.pop(rand_question)\n",
    "        while True:\n",
    "            guess = input('Введите номер ответа: ')\n",
    "            if guess == rand_question[1]:\n",
    "                print('Верно!')\n",
    "                break\n",
    "            elif guess == '0':\n",
    "                return\n",
    "            elif guess not in ('1', '2', '3', '4'):\n",
    "                print('Неверный символ. Попробуйте снова!')\n",
    "            else:\n",
    "                make_dict()\n",
    "                clear_output(wait=True)\n",
    "                print('Неверный ответ. Начинаем заново.')\n",
    "                break\n",
    "            \n",
    "                             \n",
    "play()      "
   ]
  }
 ],
 "metadata": {
  "kernelspec": {
   "display_name": "Python 3",
   "language": "python",
   "name": "python3"
  },
  "language_info": {
   "codemirror_mode": {
    "name": "ipython",
    "version": 3
   },
   "file_extension": ".py",
   "mimetype": "text/x-python",
   "name": "python",
   "nbconvert_exporter": "python",
   "pygments_lexer": "ipython3",
   "version": "3.8.8"
  }
 },
 "nbformat": 4,
 "nbformat_minor": 2
}
